{
 "cells": [
  {
   "cell_type": "code",
   "execution_count": 39,
   "id": "a25d33d6",
   "metadata": {},
   "outputs": [],
   "source": [
    "import requests\n",
    "import pandas as pd"
   ]
  },
  {
   "cell_type": "code",
   "execution_count": 40,
   "id": "26b5e55c",
   "metadata": {},
   "outputs": [],
   "source": [
    "#KEYS API_KEY can be generated from developers.google.com and channel id is the id of the the youtube account\n",
    "API_KEY = ''\n",
    "CHANNEL_ID = 'UC8butISFwT-Wl7EV0hUK0BQ'"
   ]
  },
  {
   "cell_type": "code",
   "execution_count": 41,
   "id": "dad38f11",
   "metadata": {},
   "outputs": [],
   "source": [
    "def get_video_details(video_id):\n",
    "    url_video_stats = \"https://www.googleapis.com/youtube/v3/videos?part=statistics&id=\"+video_id+\"&key=\"+API_KEY\n",
    "    response_video_stats = requests.get(url_video_stats).json()\n",
    "    \n",
    "    video_view_count = response_video_stats['items'][0]['statistics']['viewCount']\n",
    "    video_like_count = response_video_stats['items'][0]['statistics']['likeCount']\n",
    "    video_comment_count = response_video_stats['items'][0]['statistics']['commentCount']\n",
    "    \n",
    "    return video_view_count,video_like_count,video_comment_count\n",
    "    "
   ]
  },
  {
   "cell_type": "code",
   "execution_count": 42,
   "id": "6f2c84fb",
   "metadata": {},
   "outputs": [],
   "source": [
    "def get_video(df):\n",
    "    #MAKE API CALL TO FETCH ALL VIDEOS\n",
    "    pageToken = \"\"\n",
    "    url = \"https://www.googleapis.com/youtube/v3/search?key=\"+API_KEY+\"&channelId=\"+CHANNEL_ID+\"&part=snippet,id&order=date&maxResults=10000\"\n",
    "\n",
    "    response = requests.get(url).json()\n",
    "    for video in response['items']:\n",
    "        if video['id']['kind'] == 'youtube#video':\n",
    "            video_id = video['id']['videoId']\n",
    "            video_title = video['snippet']['title']\n",
    "            upload_date = video['snippet']['publishedAt']\n",
    "            upload_date = str(upload_date).split(\"T\")[0]\n",
    "\n",
    "            video_view_count,video_like_count,video_comment_count = get_video_details(video_id)\n",
    "\n",
    "            df = df.append({\n",
    "                'video_id': video_id,\n",
    "                'video_title': video_title,\n",
    "                'upload_date': upload_date,\n",
    "                'view_count': video_view_count,\n",
    "                'like_count': video_like_count,\n",
    "                'comment_count': video_comment_count}, ignore_index = True)\n",
    "            \n",
    "    return df"
   ]
  },
  {
   "cell_type": "code",
   "execution_count": 120,
   "id": "878d3981",
   "metadata": {},
   "outputs": [
    {
     "data": {
      "text/html": [
       "<div>\n",
       "<style scoped>\n",
       "    .dataframe tbody tr th:only-of-type {\n",
       "        vertical-align: middle;\n",
       "    }\n",
       "\n",
       "    .dataframe tbody tr th {\n",
       "        vertical-align: top;\n",
       "    }\n",
       "\n",
       "    .dataframe thead th {\n",
       "        text-align: right;\n",
       "    }\n",
       "</style>\n",
       "<table border=\"1\" class=\"dataframe\">\n",
       "  <thead>\n",
       "    <tr style=\"text-align: right;\">\n",
       "      <th></th>\n",
       "      <th>video_id</th>\n",
       "      <th>video_title</th>\n",
       "      <th>upload_date</th>\n",
       "      <th>view_count</th>\n",
       "      <th>like_count</th>\n",
       "      <th>comment_count</th>\n",
       "    </tr>\n",
       "  </thead>\n",
       "  <tbody>\n",
       "    <tr>\n",
       "      <th>0</th>\n",
       "      <td>8124kv-632k</td>\n",
       "      <td>Python Tutorial for Beginners</td>\n",
       "      <td>2022-03-15</td>\n",
       "      <td>48987</td>\n",
       "      <td>2612</td>\n",
       "      <td>108</td>\n",
       "    </tr>\n",
       "    <tr>\n",
       "      <th>1</th>\n",
       "      <td>AplluksKvzI</td>\n",
       "      <td>CNCF Kubernetes and Cloud Native Associate Cer...</td>\n",
       "      <td>2022-03-10</td>\n",
       "      <td>64511</td>\n",
       "      <td>2365</td>\n",
       "      <td>125</td>\n",
       "    </tr>\n",
       "    <tr>\n",
       "      <th>2</th>\n",
       "      <td>RZ4p-saaQkc</td>\n",
       "      <td>Vim Tutorial for Beginners</td>\n",
       "      <td>2022-03-09</td>\n",
       "      <td>89075</td>\n",
       "      <td>3339</td>\n",
       "      <td>178</td>\n",
       "    </tr>\n",
       "    <tr>\n",
       "      <th>3</th>\n",
       "      <td>kUMe1FH4CHE</td>\n",
       "      <td>Learn HTML – Full Tutorial for Beginners (2022)</td>\n",
       "      <td>2022-03-08</td>\n",
       "      <td>86109</td>\n",
       "      <td>3684</td>\n",
       "      <td>123</td>\n",
       "    </tr>\n",
       "    <tr>\n",
       "      <th>4</th>\n",
       "      <td>hN4Q04ODOEw</td>\n",
       "      <td>Build a Live Stream Flutter App – Android &amp;amp...</td>\n",
       "      <td>2022-03-07</td>\n",
       "      <td>54119</td>\n",
       "      <td>1956</td>\n",
       "      <td>69</td>\n",
       "    </tr>\n",
       "  </tbody>\n",
       "</table>\n",
       "</div>"
      ],
      "text/plain": [
       "      video_id                                        video_title upload_date  \\\n",
       "0  8124kv-632k                      Python Tutorial for Beginners  2022-03-15   \n",
       "1  AplluksKvzI  CNCF Kubernetes and Cloud Native Associate Cer...  2022-03-10   \n",
       "2  RZ4p-saaQkc                         Vim Tutorial for Beginners  2022-03-09   \n",
       "3  kUMe1FH4CHE    Learn HTML – Full Tutorial for Beginners (2022)  2022-03-08   \n",
       "4  hN4Q04ODOEw  Build a Live Stream Flutter App – Android &amp...  2022-03-07   \n",
       "\n",
       "  view_count like_count comment_count  \n",
       "0      48987       2612           108  \n",
       "1      64511       2365           125  \n",
       "2      89075       3339           178  \n",
       "3      86109       3684           123  \n",
       "4      54119       1956            69  "
      ]
     },
     "execution_count": 120,
     "metadata": {},
     "output_type": "execute_result"
    }
   ],
   "source": [
    "#MAIN\n",
    "\n",
    "df2 = pd.DataFrame(columns=['video_id','video_title','upload_date','view_count','like_count','comment_count'])\n",
    "\n",
    "df2 = get_video(df2)\n",
    "df2.head()"
   ]
  },
  {
   "cell_type": "code",
   "execution_count": 47,
   "id": "0322a27c",
   "metadata": {},
   "outputs": [
    {
     "name": "stdout",
     "output_type": "stream",
     "text": [
      "Collecting PyMySQLNote: you may need to restart the kernel to use updated packages.\n",
      "  Downloading PyMySQL-1.0.2-py3-none-any.whl (43 kB)\n",
      "Installing collected packages: PyMySQL\n",
      "Successfully installed PyMySQL-1.0.2\n",
      "\n"
     ]
    }
   ],
   "source": [
    "pip install PyMySQL"
   ]
  },
  {
   "cell_type": "code",
   "execution_count": 57,
   "id": "0dc79426",
   "metadata": {},
   "outputs": [],
   "source": [
    "import pymysql.cursors"
   ]
  },
  {
   "cell_type": "code",
   "execution_count": 121,
   "id": "5f3b1b47",
   "metadata": {},
   "outputs": [],
   "source": [
    "def conect_to_db(host_name,db_name,user_name,password,port):\n",
    "    try:\n",
    "        connection = pymysql.connect(user=user_name,password=password,host=host_name,database=db_name,port=port,cursorclass=pymysql.cursors.DictCursor)\n",
    "    except pymysql.OperationalError as e:\n",
    "        raise e\n",
    "    else:\n",
    "        print('connected to db!')\n",
    "    return connection\n",
    "            "
   ]
  },
  {
   "cell_type": "code",
   "execution_count": 122,
   "id": "5fe5381e",
   "metadata": {},
   "outputs": [
    {
     "name": "stdout",
     "output_type": "stream",
     "text": [
      "connected to db!\n"
     ]
    }
   ],
   "source": [
    "#connecting to db\n",
    "\n",
    "host_name = ''\n",
    "db_name = ''\n",
    "user_name = ''\n",
    "password = ''\n",
    "port=\n",
    "\n",
    "conn = conect_to_db(host_name,db_name,user_name,password,port)"
   ]
  },
  {
   "cell_type": "code",
   "execution_count": 169,
   "id": "73188b2f",
   "metadata": {},
   "outputs": [],
   "source": [
    "#create table\n",
    "def create_table(cursor):\n",
    "    create_table_query = (\"\"\"CREATE TABLE IF NOT EXISTS videos (video_id  VARCHAR(255) PRIMARY KEY,\n",
    "                                                                video_title TEXT NOT NULL,\n",
    "                                                                upload_date DATE NOT NULL,\n",
    "                                                                view_count INTEGER NOT NULL,\n",
    "                                                                like_count INTEGER NOT NULL,\n",
    "                                                                comment_count INTEGER NOT NULL)\"\"\")\n",
    "    cursor.execute(create_table_query)\n",
    "    \n",
    "#checks for any new videos\n",
    "def check_if_video_exists(cursor,video_id):\n",
    "    query = (\"\"\"SELECT video_id FROM videos WHERE video_id = %s\"\"\")\n",
    "    cursor.execute(query,(video_id))\n",
    "    \n",
    "    return cursor.fetchone() is not None\n",
    "\n",
    "#helper function to update the values of existing data\n",
    "def update_row(cursor,video_id,video_title,view_count,like_count,comment_count):\n",
    "    query = (\"\"\"UPDATE videos \n",
    "            SET video_title = %s,\n",
    "                view_count = %s,\n",
    "                like_count = %s,\n",
    "                comment_count = %s\n",
    "            WHERE video_id = %s;\"\"\")\n",
    "    vars_to_update = (video_title, view_count, like_count, comment_count, video_id)\n",
    "    cursor.execute(query, vars_to_update)\n",
    "    \n",
    "#main func to update the existing values and check for new vids\n",
    "def update_db(cursor,df):\n",
    "    tmp_df = pd.DataFrame(columns=['video_id','video_title','upload_date','view_count','like_count','comment_count'])\n",
    "    for i,row in df.iterrows():\n",
    "        if check_if_video_exists(cursor,row['video_id']): #if video already exists this will update the values\n",
    "            update_row(cursor,row['video_id'],row['video_title'],row['view_count'],row['like_count'],row['comment_count'])\n",
    "        else: #if the video does not exists in db it will appeneded through a df\n",
    "            tmp_df = tmp_df.append(row)\n",
    "    return tmp_df\n",
    "\n",
    "#helper func to insert new data into the table\n",
    "def insert_into_table(cursor,video_id,video_title,upload_date,view_count,like_count,comment_count):\n",
    "    insert_into_videos = (\"\"\"INSERT INTO videos(video_id,video_title,upload_date,view_count,like_count,comment_count)\n",
    "                             VALUES(%s,%s,%s,%s,%s,%s);\"\"\")\n",
    "    insert_vars = (video_id,video_title,upload_date,view_count,like_count,comment_count)\n",
    "    cursor.execute(insert_into_videos, insert_vars)\n",
    "\n",
    "#helper func used in inserting new data\n",
    "def append_from_df_to_db(cursor,df):    \n",
    "    for i,row in df.iterrows():\n",
    "        insert_into_table(cursor,row['video_id'],row['video_title'],row['upload_date'],row['view_count'],row['like_count'],row['comment_count'])"
   ]
  },
  {
   "cell_type": "code",
   "execution_count": 170,
   "id": "6e2c6dee",
   "metadata": {},
   "outputs": [],
   "source": [
    "cursor = conn.cursor()"
   ]
  },
  {
   "cell_type": "code",
   "execution_count": 171,
   "id": "10f6836f",
   "metadata": {},
   "outputs": [],
   "source": [
    "create_table(cursor)"
   ]
  },
  {
   "cell_type": "code",
   "execution_count": 172,
   "id": "a1161690",
   "metadata": {},
   "outputs": [],
   "source": [
    "new_vid_df = update_db(cursor,df2)"
   ]
  },
  {
   "cell_type": "code",
   "execution_count": 173,
   "id": "7adc4558",
   "metadata": {},
   "outputs": [],
   "source": [
    "append_from_df_to_db(cursor,new_vid_df)"
   ]
  },
  {
   "cell_type": "code",
   "execution_count": 174,
   "id": "29528645",
   "metadata": {},
   "outputs": [],
   "source": [
    "conn.commit()"
   ]
  },
  {
   "cell_type": "code",
   "execution_count": null,
   "id": "25072262",
   "metadata": {},
   "outputs": [],
   "source": []
  },
  {
   "cell_type": "code",
   "execution_count": null,
   "id": "59ffd875",
   "metadata": {},
   "outputs": [],
   "source": []
  }
 ],
 "metadata": {
  "kernelspec": {
   "display_name": "Python 3",
   "language": "python",
   "name": "python3"
  },
  "language_info": {
   "codemirror_mode": {
    "name": "ipython",
    "version": 3
   },
   "file_extension": ".py",
   "mimetype": "text/x-python",
   "name": "python",
   "nbconvert_exporter": "python",
   "pygments_lexer": "ipython3",
   "version": "3.8.8"
  }
 },
 "nbformat": 4,
 "nbformat_minor": 5
}
